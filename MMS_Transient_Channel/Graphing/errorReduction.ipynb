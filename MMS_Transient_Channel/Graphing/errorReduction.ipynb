{
 "cells": [
  {
   "cell_type": "code",
   "execution_count": 1,
   "metadata": {
    "collapsed": true
   },
   "outputs": [],
   "source": [
    "import pandas as pd\n",
    "from IPython.display import display"
   ]
  },
  {
   "cell_type": "code",
   "execution_count": 62,
   "metadata": {
    "collapsed": true
   },
   "outputs": [],
   "source": [
    "from IPython.display import display\n",
    "import pandas as pd\n",
    "def analyze_results(directory, log_file, output_file, print_flag=False):\n",
    "    # Concatenate the directory with the filenames\n",
    "    log_file = directory+log_file\n",
    "    output_file = directory+output_file    \n",
    "    # Get the data from the formatted csv\n",
    "    data = pd.read_csv(log_file, sep=' ')\n",
    "    # Rename runtime to Runtime (seconds)\n",
    "    data = data.rename(columns={'runtime':'Runtime (seconds)'})\n",
    "    # Create the ExcelWriter to send the information to xlsx\n",
    "    writer = pd.ExcelWriter(output_file)\n",
    "    \n",
    "    # Loop over the choices for ending time (tFinal)\n",
    "    for time in data.tFinal.unique():\n",
    "        # Loop over the choices for the Reynolds number (Re)\n",
    "        for Re in data.Re.unique():\n",
    "            # Get the information for a single pair of time and Re\n",
    "            df = data[data.tFinal.eq(time) & data.Re.eq(Re)].reset_index(drop=True)\n",
    "            # Get the reduction in error from the increase  in spatial/temporal resolution\n",
    "            df['uReduction'] = df['uErr'].shift(1)/df['uErr']\n",
    "            df['pReduction'] = df['pErr'].shift(1)/df['pErr']\n",
    "            # Write results to a sheet in output_file\n",
    "            sheetname = 'tFinal='+str(time)+', Re='+str(Re)\n",
    "            df.to_excel(writer,\n",
    "                       sheet_name=sheetname,\n",
    "                       index=False,\n",
    "                       columns=['Re','nx','nt',\n",
    "                                    'uErr','uReduction',\n",
    "                                   'pErr','pReduction',\n",
    "                                   'Runtime (seconds)'],)\n",
    "            workbook = writer.book\n",
    "            format_all = workbook.add_format()\n",
    "            format_all.set_align('center')\n",
    "            sheet = writer.sheets[sheetname]\n",
    "            width = 18\n",
    "            sheet.set_column('A:I',width,format_all)\n",
    "            # Specify uReduction, pReduction, and Runtime (seconds) to having only 2 decimal places\n",
    "            format_decimals = workbook.add_format()\n",
    "            format_decimals.set_align('center')\n",
    "            format_decimals.set_num_format('0.00')            \n",
    "            sheet.set_column('E:E',width,format_decimals)\n",
    "            sheet.set_column('G:G',width,format_decimals)\n",
    "            sheet.set_column('H:H',width,format_decimals)\n",
    "            if print_flag:\n",
    "                display(df)\n",
    "    \n",
    "    writer.save()\n",
    "    writer.close()"
   ]
  },
  {
   "cell_type": "code",
   "execution_count": 69,
   "metadata": {
    "collapsed": true
   },
   "outputs": [],
   "source": [
    "import pandas as pd\n",
    "from IPython.display import display\n",
    "def analyze_rom_results(directory, log_file, output_file, print_flag=False):\n",
    "    \"\"\"\n",
    "    Purpose:\n",
    "    To take data from a bash script run of the Inverse Problem that has been grepped and format the data\n",
    "    before saving it into sheets in an Excel file grouped by tFinal and Re\n",
    "    \n",
    "    Keyword Arugments:\n",
    "    directory - the directory the log_file is stored in and where the Excel file will be saved\n",
    "    log_file - name of the grepped text file containing the results of a series of runs for the Inverse Problem\n",
    "    output_file - name of the Excel file to be saved\n",
    "    print_flag - boolean flag used to turn on print statements of the resulting DataFrames (default is False)\n",
    "    \n",
    "    Returns:\n",
    "    None\n",
    "    \"\"\"\n",
    "    # Concatenate the directory with the filenames\n",
    "    log_file = directory+log_file\n",
    "    output_file = directory+output_file    \n",
    "    # Get the data from the formatted csv\n",
    "    data = pd.read_csv(log_file, sep=' ')\n",
    "    # Rename runtime to Runtime (seconds)\n",
    "    data = data.rename(columns={'runtime':'Runtime (seconds)'})\n",
    "    # Create the ExcelWriter to send the information to xlsx\n",
    "    writer = pd.ExcelWriter(output_file)\n",
    "    \n",
    "    # Loop over the choices for ending time (tFinal)\n",
    "    for time in data.tFinal.unique():\n",
    "        # Loop over the choices for the Reynolds number (Re)\n",
    "        for Re in data.Re.unique():\n",
    "            # Get the information for a single pair of time and Re\n",
    "            df = data[data.tFinal.eq(time) & data.Re.eq(Re)].reset_index(drop=True)\n",
    "            # Get the reduction in error from the increase  in spatial/temporal resolution\n",
    "            df['alphaReduction'] = df['alphaErr2'].shift(1)/df['alphaErr2']\n",
    "            df['uReduction'] = df['uErr2'].shift(1)/df['uErr2']\n",
    "            # Write results to a sheet in output_file\n",
    "            sheetname = 'tFinal='+str(time)+', Re='+str(Re)\n",
    "            df.to_excel(writer,\n",
    "                       sheet_name=sheetname,\n",
    "                       index=False,\n",
    "                       columns=['Re','nx','nSteps',\n",
    "                                    'uErr2','uReduction',\n",
    "                                   'alphaErr2','alphaReduction',\n",
    "                                   'InverseTime','ErrorCheckRunTime','VTKRunTime','Total'])\n",
    "            workbook = writer.book\n",
    "            # Base format used for all columns\n",
    "            format_all = workbook.add_format()\n",
    "            format_all.set_align('center')\n",
    "            # Format the sheet\n",
    "            sheet = writer.sheets[sheetname]\n",
    "            width = 18\n",
    "            sheet.set_column('A:I',width,format_all)\n",
    "            # Format uReduction, alphaReduction\n",
    "            format_reduction = workbook.add_format()\n",
    "            format_reduction.set_align('center')\n",
    "            format_reduction.set_num_format('0.00')            \n",
    "            sheet.set_column('E:E',width,format_reduction)\n",
    "            sheet.set_column('G:G',width,format_reduction)\n",
    "            # Format the runtime columns\n",
    "            format_time = workbook.add_format()\n",
    "            format_time.set_num_format('0.00')\n",
    "            sheet.set_column('H:K',width,format_time)\n",
    "            if print_flag:\n",
    "                display(df)\n",
    "    \n",
    "    writer.save()\n",
    "    writer.close()"
   ]
  },
  {
   "cell_type": "code",
   "execution_count": 63,
   "metadata": {
    "scrolled": true
   },
   "outputs": [],
   "source": [
    "# This block is for the Viento Verification\n",
    "FP_dir = '/home/sirush/PhDResearch/MMS_Transient_Channel/ForwardProblem/Log_Files/'\n",
    "viento_verification_log = 'log_Viento_verification_short.txt'\n",
    "viento_verification_output = 'Viento_Verification.xlsx'\n",
    "analyze_results(directory=FP_dir,log_file=viento_verification_log,output_file=viento_verification_output)"
   ]
  },
  {
   "cell_type": "code",
   "execution_count": 68,
   "metadata": {},
   "outputs": [],
   "source": [
    "# This block is for getting the Inverse Problem results for comparing with the ODECO single parameter space\n",
    "InvProb_dir = '/home/sirush/PhDResearch/MMS_Transient_Channel/InverseProblem/Log_Files/'\n",
    "inv_prob_log = 'log_short_Re{1,20,40,60,80,100}_nxnt{24,36,48,60,72}.txt'\n",
    "inv_prob_output = 'Inverse_Problem_Results.xlsx'\n",
    "analyze_rom_results(directory=InvProb_dir,log_file=inv_prob_log,output_file=inv_prob_output)\n",
    "\n",
    "\n"
   ]
  },
  {
   "cell_type": "code",
   "execution_count": null,
   "metadata": {
    "collapsed": true
   },
   "outputs": [],
   "source": []
  }
 ],
 "metadata": {
  "kernelspec": {
   "display_name": "Python 2",
   "language": "python",
   "name": "python2"
  },
  "language_info": {
   "codemirror_mode": {
    "name": "ipython",
    "version": 2
   },
   "file_extension": ".py",
   "mimetype": "text/x-python",
   "name": "python",
   "nbconvert_exporter": "python",
   "pygments_lexer": "ipython2",
   "version": "2.7.14"
  }
 },
 "nbformat": 4,
 "nbformat_minor": 2
}
